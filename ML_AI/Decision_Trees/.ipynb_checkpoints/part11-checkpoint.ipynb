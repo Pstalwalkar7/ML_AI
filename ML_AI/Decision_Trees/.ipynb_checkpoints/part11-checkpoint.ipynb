{
 "cells": [
  {
   "cell_type": "code",
   "execution_count": 1,
   "metadata": {},
   "outputs": [],
   "source": [
    "import numpy as np\n",
    "import fractions"
   ]
  },
  {
   "cell_type": "code",
   "execution_count": 2,
   "metadata": {},
   "outputs": [],
   "source": [
    "x = 97/100\n"
   ]
  },
  {
   "cell_type": "code",
   "execution_count": 3,
   "metadata": {},
   "outputs": [],
   "source": [
    "probs = dict()\n",
    "probs[\"Green\"] = dict({\"Green\":0.9, \"Red\":0.15})\n",
    "probs[\"Red\"] = dict({\"Green\":0.1, \"Red\":0.85})"
   ]
  },
  {
   "cell_type": "code",
   "execution_count": 4,
   "metadata": {},
   "outputs": [],
   "source": [
    "stateColour = np.array([\"blank\",\"Red\",\"Red\",\"Green\",\"Green\",\"Red\"])"
   ]
  },
  {
   "cell_type": "code",
   "execution_count": 5,
   "metadata": {},
   "outputs": [],
   "source": [
    "initialBelief = np.array([0,1/3,1/3,0,0,1/3])"
   ]
  },
  {
   "cell_type": "code",
   "execution_count": 6,
   "metadata": {
    "scrolled": true
   },
   "outputs": [],
   "source": [
    "def p_action(fro , to, action):\n",
    "    if action == \"Right\":\n",
    "        if to == fro+1:\n",
    "            return x\n",
    "        if fro == to and fro == 5:\n",
    "            return x\n",
    "        if to == fro-1:\n",
    "            return 1-x\n",
    "        if fro == to and fro == 1:\n",
    "            return 1-x\n",
    "        return 0\n",
    "    if action == \"Left\":\n",
    "        if to == fro+1:\n",
    "            return 1-x\n",
    "        if fro == to and fro == 5:\n",
    "            return 1-x\n",
    "        if to == fro-1:\n",
    "            return x\n",
    "        if fro == to and fro == 1:\n",
    "            return x\n",
    "        return 0"
   ]
  },
  {
   "cell_type": "code",
   "execution_count": 7,
   "metadata": {},
   "outputs": [],
   "source": [
    "def toFrac(k):\n",
    "    return [str(fractions.Fraction(i).limit_denominator()) for i in k]"
   ]
  },
  {
   "cell_type": "code",
   "execution_count": 8,
   "metadata": {},
   "outputs": [],
   "source": [
    "def printState(belief):\n",
    "    print(\"|State|Prob|\")\n",
    "    print(\"|-----|----|\")\n",
    "    lol = toFrac(belief)\n",
    "    for i in range(1,6):\n",
    "        print(\"|$S_{:d}$|{:1.3f}|\".format(i,belief[i]))"
   ]
  },
  {
   "cell_type": "code",
   "execution_count": 9,
   "metadata": {},
   "outputs": [],
   "source": [
    "def actionUpdate(action, belief):\n",
    "    new_belief = belief.copy()\n",
    "    print(\"$$b(s) = \\sum_{{s' \\\\in S}} b(s').p(s|a,s')$$\")\n",
    "    for i in range(1,6):\n",
    "        new_belief[i] = sum([belief[j]*p_action(j,i,action) for j in range(1,6)])\n",
    "        string = \"\"\n",
    "        for j in range(1,6):\n",
    "            string += \" {:1.3f}*{:1.2f} +\".format(belief[j],p_action(j,i,action))\n",
    "        print(\"$$b(S_{:d}) = {:s} = {:1.3f}$$\".format(i,string[:-1],new_belief[i]))\n",
    "    return new_belief"
   ]
  },
  {
   "cell_type": "code",
   "execution_count": 10,
   "metadata": {},
   "outputs": [],
   "source": [
    "def obsUpdate(obs, belief):\n",
    "    new_belief = belief.copy()\n",
    "    denominator = sum([belief[j]*probs[obs][stateColour[j]] for j in range(1,6)])\n",
    "    print(\"$$\\\\text{{Denominator}} = \\sum_{{s\\\\in S}}b(s)*p(o={:s}|s) = {:1.3f}$$\".format(obs,denominator))\n",
    "    for i in range(1,6):\n",
    "        new_belief[i] = belief[i]*probs[obs][stateColour[i]]/denominator\n",
    "        print(\"$$b'(S_{:d}) = \\\\frac{{{:1.3f}*{:1.3f}}}{{{:1.3f}}} = {:1.3f}$$\"\\\n",
    "              .format(i,belief[i],probs[obs][stateColour[i]],denominator,new_belief[i]))\n",
    "        \n",
    "    printState(new_belief)\n",
    "    return new_belief"
   ]
  },
  {
   "cell_type": "code",
   "execution_count": 11,
   "metadata": {},
   "outputs": [],
   "source": [
    "### Right then red:"
   ]
  },
  {
   "cell_type": "code",
   "execution_count": 12,
   "metadata": {},
   "outputs": [
    {
     "name": "stdout",
     "output_type": "stream",
     "text": [
      "$$b(s) = \\sum_{{s' \\in S}} b(s').p(s|a,s')$$\n",
      "$$b(S_1) =  0.333*0.03 + 0.333*0.03 + 0.000*0.00 + 0.000*0.00 + 0.333*0.00  = 0.020$$\n",
      "$$b(S_2) =  0.333*0.97 + 0.333*0.00 + 0.000*0.03 + 0.000*0.00 + 0.333*0.00  = 0.323$$\n",
      "$$b(S_3) =  0.333*0.00 + 0.333*0.97 + 0.000*0.00 + 0.000*0.03 + 0.333*0.00  = 0.323$$\n",
      "$$b(S_4) =  0.333*0.00 + 0.333*0.00 + 0.000*0.97 + 0.000*0.00 + 0.333*0.03  = 0.010$$\n",
      "$$b(S_5) =  0.333*0.00 + 0.333*0.00 + 0.000*0.00 + 0.000*0.97 + 0.333*0.97  = 0.323$$\n"
     ]
    }
   ],
   "source": [
    "a1 = actionUpdate(\"Right\",initialBelief)"
   ]
  },
  {
   "cell_type": "code",
   "execution_count": 13,
   "metadata": {},
   "outputs": [
    {
     "name": "stdout",
     "output_type": "stream",
     "text": [
      "$$\\text{Denominator} = \\sum_{s\\in S}b(s)*p(o=Red|s) = 0.600$$\n",
      "$$b'(S_1) = \\frac{0.020*0.850}{0.600} = 0.028$$\n",
      "$$b'(S_2) = \\frac{0.323*0.850}{0.600} = 0.458$$\n",
      "$$b'(S_3) = \\frac{0.323*0.100}{0.600} = 0.054$$\n",
      "$$b'(S_4) = \\frac{0.010*0.100}{0.600} = 0.002$$\n",
      "$$b'(S_5) = \\frac{0.323*0.850}{0.600} = 0.458$$\n",
      "|State|Prob|\n",
      "|-----|----|\n",
      "|$S_1$|0.028|\n",
      "|$S_2$|0.458|\n",
      "|$S_3$|0.054|\n",
      "|$S_4$|0.002|\n",
      "|$S_5$|0.458|\n"
     ]
    }
   ],
   "source": [
    "o1 = obsUpdate(\"Red\", a1)"
   ]
  },
  {
   "cell_type": "code",
   "execution_count": 14,
   "metadata": {},
   "outputs": [
    {
     "name": "stdout",
     "output_type": "stream",
     "text": [
      "$$b(s) = \\sum_{{s' \\in S}} b(s').p(s|a,s')$$\n",
      "$$b(S_1) =  0.028*0.97 + 0.458*0.97 + 0.054*0.00 + 0.002*0.00 + 0.458*0.00  = 0.472$$\n",
      "$$b(S_2) =  0.028*0.03 + 0.458*0.00 + 0.054*0.97 + 0.002*0.00 + 0.458*0.00  = 0.053$$\n",
      "$$b(S_3) =  0.028*0.00 + 0.458*0.03 + 0.054*0.00 + 0.002*0.97 + 0.458*0.00  = 0.015$$\n",
      "$$b(S_4) =  0.028*0.00 + 0.458*0.00 + 0.054*0.03 + 0.002*0.00 + 0.458*0.97  = 0.446$$\n",
      "$$b(S_5) =  0.028*0.00 + 0.458*0.00 + 0.054*0.00 + 0.002*0.03 + 0.458*0.03  = 0.014$$\n"
     ]
    }
   ],
   "source": [
    "a2 = actionUpdate(\"Left\", o1)"
   ]
  },
  {
   "cell_type": "code",
   "execution_count": 15,
   "metadata": {
    "scrolled": true
   },
   "outputs": [
    {
     "name": "stdout",
     "output_type": "stream",
     "text": [
      "$$\\text{Denominator} = \\sum_{s\\in S}b(s)*p(o=Green|s) = 0.496$$\n",
      "$$b'(S_1) = \\frac{0.472*0.150}{0.496} = 0.143$$\n",
      "$$b'(S_2) = \\frac{0.053*0.150}{0.496} = 0.016$$\n",
      "$$b'(S_3) = \\frac{0.015*0.900}{0.496} = 0.028$$\n",
      "$$b'(S_4) = \\frac{0.446*0.900}{0.496} = 0.809$$\n",
      "$$b'(S_5) = \\frac{0.014*0.150}{0.496} = 0.004$$\n",
      "|State|Prob|\n",
      "|-----|----|\n",
      "|$S_1$|0.143|\n",
      "|$S_2$|0.016|\n",
      "|$S_3$|0.028|\n",
      "|$S_4$|0.809|\n",
      "|$S_5$|0.004|\n"
     ]
    }
   ],
   "source": [
    "o2 = obsUpdate(\"Green\", a2)"
   ]
  },
  {
   "cell_type": "code",
   "execution_count": 16,
   "metadata": {},
   "outputs": [
    {
     "name": "stdout",
     "output_type": "stream",
     "text": [
      "$$b(s) = \\sum_{{s' \\in S}} b(s').p(s|a,s')$$\n",
      "$$b(S_1) =  0.143*0.97 + 0.016*0.97 + 0.028*0.00 + 0.809*0.00 + 0.004*0.00  = 0.154$$\n",
      "$$b(S_2) =  0.143*0.03 + 0.016*0.00 + 0.028*0.97 + 0.809*0.00 + 0.004*0.00  = 0.031$$\n",
      "$$b(S_3) =  0.143*0.00 + 0.016*0.03 + 0.028*0.00 + 0.809*0.97 + 0.004*0.00  = 0.785$$\n",
      "$$b(S_4) =  0.143*0.00 + 0.016*0.00 + 0.028*0.03 + 0.809*0.00 + 0.004*0.97  = 0.005$$\n",
      "$$b(S_5) =  0.143*0.00 + 0.016*0.00 + 0.028*0.00 + 0.809*0.03 + 0.004*0.03  = 0.024$$\n"
     ]
    }
   ],
   "source": [
    "a3 = actionUpdate(\"Left\", o2)"
   ]
  },
  {
   "cell_type": "code",
   "execution_count": 17,
   "metadata": {},
   "outputs": [
    {
     "name": "stdout",
     "output_type": "stream",
     "text": [
      "$$\\text{Denominator} = \\sum_{s\\in S}b(s)*p(o=Green|s) = 0.743$$\n",
      "$$b'(S_1) = \\frac{0.154*0.150}{0.743} = 0.031$$\n",
      "$$b'(S_2) = \\frac{0.031*0.150}{0.743} = 0.006$$\n",
      "$$b'(S_3) = \\frac{0.785*0.900}{0.743} = 0.952$$\n",
      "$$b'(S_4) = \\frac{0.005*0.900}{0.743} = 0.006$$\n",
      "$$b'(S_5) = \\frac{0.024*0.150}{0.743} = 0.005$$\n",
      "|State|Prob|\n",
      "|-----|----|\n",
      "|$S_1$|0.031|\n",
      "|$S_2$|0.006|\n",
      "|$S_3$|0.952|\n",
      "|$S_4$|0.006|\n",
      "|$S_5$|0.005|\n"
     ]
    }
   ],
   "source": [
    "o3 = obsUpdate(\"Green\", a3)"
   ]
  },
  {
   "cell_type": "code",
   "execution_count": null,
   "metadata": {},
   "outputs": [],
   "source": []
  },
  {
   "cell_type": "code",
   "execution_count": null,
   "metadata": {},
   "outputs": [],
   "source": []
  },
  {
   "cell_type": "code",
   "execution_count": null,
   "metadata": {},
   "outputs": [],
   "source": []
  },
  {
   "cell_type": "code",
   "execution_count": null,
   "metadata": {},
   "outputs": [],
   "source": []
  }
 ],
 "metadata": {
  "kernelspec": {
   "display_name": "Python 3",
   "language": "python",
   "name": "python3"
  },
  "language_info": {
   "codemirror_mode": {
    "name": "ipython",
    "version": 3
   },
   "file_extension": ".py",
   "mimetype": "text/x-python",
   "name": "python",
   "nbconvert_exporter": "python",
   "pygments_lexer": "ipython3",
   "version": "3.6.9"
  }
 },
 "nbformat": 4,
 "nbformat_minor": 4
}
